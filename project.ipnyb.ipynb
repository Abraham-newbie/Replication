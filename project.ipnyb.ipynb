{
 "cells": [
  {
   "cell_type": "markdown",
   "metadata": {},
   "source": [
    "# Replicating 'Delivering Education to the Underserved through a Public-Private Partnership Program in Pakistan: A Randomized Controlled Study'\n",
    "\n"
   ]
  },
  {
   "cell_type": "markdown",
   "metadata": {},
   "source": [
    " This notebook contains the replication of\n",
    "> Barrera-Osorio,Felipe & Blakeslee,David S.& Hoover, Matthew & Linden ,Leigh & Raju, Dhushyanth & Ryan ,Stephen P. , 2017. \"Delivering education to the underserved through a public-private partnership program in Pakistan,\" Policy Research Working Paper Series 8177, The World Bank."
   ]
  },
  {
   "cell_type": "markdown",
   "metadata": {},
   "source": [
    "**Sources used to replicate the study can be found here : [code,data](https://dataverse.harvard.edu/dataset.xhtml?persistentId=doi:10.7910/DVN/UWXULC) and [paper](http://documents1.worldbank.org/curated/en/868011504015520701/pdf/WPS8177.pdf).**"
   ]
  },
  {
   "cell_type": "markdown",
   "metadata": {},
   "source": [
    "**Information about navigating the notebook:**\n",
    "\n",
    "* The notebook attempts to replicate the major results of the study. Tables and figures are labelled accordingly.\n",
    "* I also add additional visualizations as seen fit to improve on the readability and lucidity of the study.\n",
    "* Having originated from South Asia,I am also uniquely placed to enrich the paper with personal observations and interpretations of the results. They are accordingly marked.\n"
   ]
  },
  {
   "cell_type": "markdown",
   "metadata": {},
   "source": [
    "## Table of Contents\n",
    "* [Introduction](#first-bullet)\n",
    "* [Second Bullet Header](#second-bullet)\n",
    "\n"
   ]
  },
  {
   "cell_type": "code",
   "execution_count": 2,
   "metadata": {},
   "outputs": [
    {
     "name": "stderr",
     "output_type": "stream",
     "text": [
      "Registered S3 methods overwritten by 'ggplot2':\n",
      "  method         from \n",
      "  [.quosures     rlang\n",
      "  c.quosures     rlang\n",
      "  print.quosures rlang\n",
      "Registered S3 method overwritten by 'rvest':\n",
      "  method            from\n",
      "  read_xml.response xml2\n",
      "-- Attaching packages --------------------------------------- tidyverse 1.2.1 --\n",
      "v ggplot2 3.1.1       v purrr   0.3.2  \n",
      "v tibble  2.1.1       v dplyr   0.8.0.1\n",
      "v tidyr   0.8.3       v stringr 1.4.0  \n",
      "v readr   1.3.1       v forcats 0.4.0  \n",
      "-- Conflicts ------------------------------------------ tidyverse_conflicts() --\n",
      "x dplyr::filter() masks stats::filter()\n",
      "x dplyr::lag()    masks stats::lag()\n"
     ]
    }
   ],
   "source": [
    "library(tidyverse)\n",
    "library(haven)\n",
    "library(dplyr)\n"
   ]
  },
  {
   "cell_type": "markdown",
   "metadata": {},
   "source": [
    "*Importing Data*"
   ]
  },
  {
   "cell_type": "code",
   "execution_count": 4,
   "metadata": {},
   "outputs": [],
   "source": [
    "child_data<- read_dta(\"data/ReStat_children.dta\")\n",
    "school_data<- read_dta(\"data/ReStat_schools.dta\")"
   ]
  },
  {
   "cell_type": "markdown",
   "metadata": {},
   "source": [
    "#### Table 6: Gender differential impacts by subsidy treatment"
   ]
  },
  {
   "cell_type": "code",
   "execution_count": 6,
   "metadata": {},
   "outputs": [
    {
     "name": "stderr",
     "output_type": "stream",
     "text": [
      "Warning message in file(filename, \"r\", encoding = encoding):\n",
      "\"cannot open file 'auxiliary/function1.r': No such file or directory\""
     ]
    },
    {
     "ename": "ERROR",
     "evalue": "Error in file(filename, \"r\", encoding = encoding): cannot open the connection\n",
     "output_type": "error",
     "traceback": [
      "Error in file(filename, \"r\", encoding = encoding): cannot open the connection\nTraceback:\n",
      "1. source(\"auxiliary/function1.r\")",
      "2. file(filename, \"r\", encoding = encoding)"
     ]
    }
   ],
   "source": [
    "source(\"auxiliary/function1.r\")"
   ]
  },
  {
   "cell_type": "markdown",
   "metadata": {},
   "source": [
    "*To be converted to a function"
   ]
  },
  {
   "cell_type": "code",
   "execution_count": 32,
   "metadata": {},
   "outputs": [],
   "source": [
    "\n",
    "\n",
    "child_controls = c(\"control_fu_child_age\", \"control_fu_female\", \"missing_fu_child_age\", \"missing_fu_female\")\n",
    "\n",
    "    \n",
    "hh_controls = c(\"control_fu_adults\", \"control_fu_hh_head_edu\",\"control_fu_hh_head_occ_farmer\" ,\"control_fu_total_land\", \n",
    "             \"control_fu_household_size\" ,\"missing_fu_adults\", \"missing_fu_hh_head_edu\" ,\"missing_fu_hh_head_occ_farmer\",  \n",
    "             \"missing_fu_total_land\", \"missing_fu_household_size\")\n",
    "\n",
    "independent_vars = c(\"treatment_1\", \"treat_1_female\" ,\"treatment_2\",\"treat_2_female\")\n",
    "district_control =c(\"factor(bl_district)\")\n",
    "\n",
    "\n",
    "child_data_subset= child_data %>% filter(fu_child_level == 1 & fu_young_child == 1)\n",
    "\n",
    "x_vars <- c(child_controls,hh_controls,independent_vars,district_control)\n",
    "\n",
    "\n",
    "full.formula <- as.formula(paste('fu_child_enrolled', paste(x_vars,collapse = ' + '),sep='~'))\n",
    "\n",
    "lm_enroll<-lm(full.formula,data=child_data_subset,weights=child_data_subset$hh_weight)\n",
    "\n",
    "full.formula <- as.formula(paste('total_score_dev', paste(x_vars,collapse = ' + '),sep='~'))\n",
    "\n",
    "lm_enroll<-lm(full.formula,data=child_data_subset,weights=child_data_subset$hh_weight)\n",
    "\n",
    "full.formula <- as.formula(paste('fu_child_highest_grade', paste(x_vars,collapse = ' + '),sep='~'))\n",
    "\n",
    "lm_enroll<-lm(full.formula,data=child_data_subset,weights=child_data_subset$hh_weight)\n",
    "\n",
    "rob_se <- list(sqrt(diag(vcovHC(fatalities_mod1, type = \"HC1\"))),\n",
    "               sqrt(diag(vcovHC(fatalities_mod2, type = \"HC1\"))),\n",
    "               sqrt(diag(vcovHC(fatalities_mod3, type = \"HC1\"))),\n",
    "               sqrt(diag(vcovHC(fatalities_mod4, type = \"HC1\"))),\n",
    "               sqrt(diag(vcovHC(fatalities_mod5, type = \"HC1\"))),\n",
    "               sqrt(diag(vcovHC(fatalities_mod6, type = \"HC1\"))),\n",
    "               sqrt(diag(vcovHC(fatalities_mod7, type = \"HC1\"))))\n"
   ]
  },
  {
   "cell_type": "code",
   "execution_count": 27,
   "metadata": {},
   "outputs": [
    {
     "ename": "ERROR",
     "evalue": "Error in parse(text = x, srcfile = src): <text>:7:0: unexpected end of input\n5: \n6: \n  ^\n",
     "output_type": "error",
     "traceback": [
      "Error in parse(text = x, srcfile = src): <text>:7:0: unexpected end of input\n5: \n6: \n  ^\nTraceback:\n"
     ]
    }
   ],
   "source": [
    "\n",
    "\n",
    "\n"
   ]
  },
  {
   "cell_type": "markdown",
   "metadata": {},
   "source": [
    "<table>\n",
    "<caption>Means and Standard Deviations of Three Measures of Graduate Programs of Education ($n=122$)</caption>\n",
    " <thead>\n",
    "  <tr>\n",
    "   <th style=\"text-align:right;\"> Measure </th>\n",
    "   <th style=\"text-align:right;\"> *M* </th>\n",
    "   <th style=\"text-align:right;\"> *SD* </th>\n",
    "   <th style=\"text-align:right;\"> *M* </th>\n",
    "  </tr>\n",
    " </thead>\n",
    "<tbody>\n",
    "  <tr>\n",
    "   <td style=\"text-align:right;\"> 2 </td>\n",
    "   <td style=\"text-align:right;\"> 3 </td>\n",
    "   <td style=\"text-align:right;\"> 4 </td>\n",
    "   <td style=\"text-align:right;\"> 5 </td>\n",
    "  </tr>\n",
    "</tbody>\n",
    "</table>"
   ]
  }
 ],
 "metadata": {
  "kernelspec": {
   "display_name": "R",
   "language": "R",
   "name": "ir"
  },
  "language_info": {
   "codemirror_mode": "r",
   "file_extension": ".r",
   "mimetype": "text/x-r-source",
   "name": "R",
   "pygments_lexer": "r",
   "version": "3.6.1"
  }
 },
 "nbformat": 4,
 "nbformat_minor": 4
}
