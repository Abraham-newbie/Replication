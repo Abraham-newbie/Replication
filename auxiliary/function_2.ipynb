{
 "cells": [
  {
   "cell_type": "code",
   "execution_count": 5,
   "id": "24940894",
   "metadata": {},
   "outputs": [
    {
     "ename": "ERROR",
     "evalue": "Error in parse(text = x, srcfile = src): <text>:10:14: unexpected string constant\n9:              \"control_fu_household_size\" ,\"missing_fu_adults\", \"missing_fu_hh_head_edu\" ,\"missing_fu_hh_head_occ_farmer\"  \n10:              \"missing_fu_total_land\"\n                 ^\n",
     "output_type": "error",
     "traceback": [
      "Error in parse(text = x, srcfile = src): <text>:10:14: unexpected string constant\n9:              \"control_fu_household_size\" ,\"missing_fu_adults\", \"missing_fu_hh_head_edu\" ,\"missing_fu_hh_head_occ_farmer\"  \n10:              \"missing_fu_total_land\"\n                 ^\nTraceback:\n"
     ]
    }
   ],
   "source": [
    "function2<-function() {\n",
    "    \n",
    "    \n",
    "print(\"hello\")\n",
    "child_controls=c(\"control_fu_child_age\", \"control_fu_female\", \"missing_fu_child_age\", \"missing_fu_female\")\n",
    "\n",
    "    \n",
    "hh_controls (\"control_fu_adults\", \"control_fu_hh_head_edu\",\"control_fu_hh_head_occ_farmer\" ,\"control_fu_total_land\", \n",
    "             \"control_fu_household_size\" ,\"missing_fu_adults\", \"missing_fu_hh_head_edu\" ,\"missing_fu_hh_head_occ_farmer\"  \n",
    "             \"missing_fu_total_land\", \"missing_fu_household_size\")\n",
    "\n",
    "models = map(setNames(x,x), \n",
    "             ~ lm(paste(y, paste(c(.x, controls), collapse=\"+\"), sep=\"~\"), \n",
    "                  data=mtcars))\n",
    "  \n",
    "}"
   ]
  }
 ],
 "metadata": {
  "kernelspec": {
   "display_name": "R",
   "language": "R",
   "name": "ir"
  },
  "language_info": {
   "codemirror_mode": "r",
   "file_extension": ".r",
   "mimetype": "text/x-r-source",
   "name": "R",
   "pygments_lexer": "r",
   "version": "3.6.1"
  }
 },
 "nbformat": 4,
 "nbformat_minor": 5
}
