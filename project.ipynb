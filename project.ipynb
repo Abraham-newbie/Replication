{
 "cells": [
  {
   "cell_type": "markdown",
   "metadata": {},
   "source": [
    "# Replicating 'Delivering Education to the Underserved through a Public-Private Partnership Program in Pakistan: A Randomized Controlled Study'\n",
    "\n"
   ]
  },
  {
   "cell_type": "markdown",
   "metadata": {},
   "source": [
    " This notebook contains the replication of\n",
    "> Barrera-Osorio,Felipe & Blakeslee,David S.& Hoover, Matthew & Linden ,Leigh & Raju, Dhushyanth & Ryan ,Stephen P. , 2017. \"Delivering education to the underserved through a public-private partnership program in Pakistan,\" Policy Research Working Paper Series 8177, The World Bank."
   ]
  },
  {
   "cell_type": "markdown",
   "metadata": {},
   "source": [
    "**Sources used to replicate the study can be found here : [code,data](https://dataverse.harvard.edu/dataset.xhtml?persistentId=doi:10.7910/DVN/UWXULC) and [paper](http://documents1.worldbank.org/curated/en/868011504015520701/pdf/WPS8177.pdf).**"
   ]
  },
  {
   "cell_type": "markdown",
   "metadata": {},
   "source": [
    "**Information about navigating the notebook:**\n",
    "\n",
    "* The notebook attempts to replicate the major results of the study. Tables and figures are labelled accordingly.\n",
    "* I also add additional visualizations as seen fit to improve on the readability and lucidity of the study.\n",
    "* Having originated from South Asia,I am also uniquely placed to enrich the paper with personal observations and interpretations of the results. They are accordingly marked.\n"
   ]
  },
  {
   "cell_type": "markdown",
   "metadata": {},
   "source": [
    "## Table of Contents\n",
    "* [Introduction](#first-bullet)\n",
    "* [Second Bullet Header](#second-bullet)\n",
    "\n"
   ]
  },
  {
   "cell_type": "code",
   "execution_count": 1,
   "metadata": {},
   "outputs": [
    {
     "name": "stderr",
     "output_type": "stream",
     "text": [
      "Registered S3 methods overwritten by 'ggplot2':\n",
      "  method         from \n",
      "  [.quosures     rlang\n",
      "  c.quosures     rlang\n",
      "  print.quosures rlang\n",
      "Registered S3 method overwritten by 'rvest':\n",
      "  method            from\n",
      "  read_xml.response xml2\n",
      "-- Attaching packages --------------------------------------- tidyverse 1.2.1 --\n",
      "v ggplot2 3.1.1       v purrr   0.3.2  \n",
      "v tibble  2.1.1       v dplyr   0.8.0.1\n",
      "v tidyr   0.8.3       v stringr 1.4.0  \n",
      "v readr   1.3.1       v forcats 0.4.0  \n",
      "-- Conflicts ------------------------------------------ tidyverse_conflicts() --\n",
      "x dplyr::filter() masks stats::filter()\n",
      "x dplyr::lag()    masks stats::lag()\n",
      "Warning message:\n",
      "\"package 'sandwich' was built under R version 3.6.3\"Warning message:\n",
      "\"package 'stargazer' was built under R version 3.6.3\"\n",
      "Please cite as: \n",
      "\n",
      " Hlavac, Marek (2018). stargazer: Well-Formatted Regression and Summary Statistics Tables.\n",
      " R package version 5.2.2. https://CRAN.R-project.org/package=stargazer \n",
      "\n",
      "\n",
      "Attaching package: 'magrittr'\n",
      "\n",
      "The following object is masked from 'package:purrr':\n",
      "\n",
      "    set_names\n",
      "\n",
      "The following object is masked from 'package:tidyr':\n",
      "\n",
      "    extract\n",
      "\n",
      "\n",
      "Attaching package: 'xtable'\n",
      "\n",
      "The following object is masked from 'package:IRdisplay':\n",
      "\n",
      "    display\n",
      "\n"
     ]
    }
   ],
   "source": [
    "library(tidyverse)\n",
    "library(haven)\n",
    "library(dplyr)\n",
    "library(sandwich)\n",
    "library(stargazer)\n",
    "library(stargazer)\n",
    "library(IRdisplay)\n",
    "library(magrittr)\n",
    "library(xtable)\n"
   ]
  },
  {
   "cell_type": "markdown",
   "metadata": {},
   "source": [
    "**Importing Data**"
   ]
  },
  {
   "cell_type": "code",
   "execution_count": 2,
   "metadata": {},
   "outputs": [],
   "source": [
    "child_data<- read_dta(\"data/ReStat_children.dta\")\n",
    "school_data<- read_dta(\"data/ReStat_schools.dta\")"
   ]
  },
  {
   "cell_type": "markdown",
   "metadata": {},
   "source": [
    "**Table 4 Test Scores**"
   ]
  },
  {
   "cell_type": "code",
   "execution_count": 3,
   "metadata": {},
   "outputs": [
    {
     "name": "stdout",
     "output_type": "stream",
     "text": [
      "\n",
      "==============================================================================================================\n",
      "                                                            Dependent variable:                               \n",
      "                              --------------------------------------------------------------------------------\n",
      "                                    math_score_dev             urdu_score_dev            total_score_dev      \n",
      "                                         (1)                        (2)                        (3)            \n",
      "--------------------------------------------------------------------------------------------------------------\n",
      "control_fu_child_age                   0.097***                   0.087***                   0.096***         \n",
      "                                       (0.005)                    (0.005)                    (0.005)          \n",
      "                                                                                                              \n",
      "control_fu_female                       -0.011                     -0.020                     -0.018          \n",
      "                                       (0.017)                    (0.016)                    (0.016)          \n",
      "                                                                                                              \n",
      "missing_fu_child_age                                                                                          \n",
      "                                                                                                              \n",
      "                                                                                                              \n",
      "missing_fu_female                       -0.070                     -0.089                     -0.081          \n",
      "                                       (0.129)                    (0.122)                    (0.124)          \n",
      "                                                                                                              \n",
      "control_fu_adults                       -0.005                    0.017**                     0.004           \n",
      "                                       (0.008)                    (0.008)                    (0.008)          \n",
      "                                                                                                              \n",
      "control_fu_hh_head_edu                 0.010***                   0.014***                   0.012***         \n",
      "                                       (0.002)                    (0.002)                    (0.002)          \n",
      "                                                                                                              \n",
      "control_fu_hh_head_occ_farmer          -0.029*                   -0.075***                  -0.049***         \n",
      "                                       (0.018)                    (0.017)                    (0.017)          \n",
      "                                                                                                              \n",
      "control_fu_total_land                  -0.0003                    -0.0002                    -0.0003          \n",
      "                                       (0.0003)                   (0.0003)                   (0.0003)         \n",
      "                                                                                                              \n",
      "control_fu_household_size             -0.029***                  -0.027***                  -0.029***         \n",
      "                                       (0.004)                    (0.004)                    (0.004)          \n",
      "                                                                                                              \n",
      "missing_fu_adults                       0.100                      -0.032                     0.047           \n",
      "                                       (0.406)                    (0.383)                    (0.389)          \n",
      "                                                                                                              \n",
      "missing_fu_hh_head_edu                  0.112                      0.054                      0.090           \n",
      "                                       (0.151)                    (0.143)                    (0.145)          \n",
      "                                                                                                              \n",
      "missing_fu_hh_head_occ_farmer           0.025                      0.054                      0.040           \n",
      "                                       (0.085)                    (0.080)                    (0.082)          \n",
      "                                                                                                              \n",
      "missing_fu_total_land                                                                                         \n",
      "                                                                                                              \n",
      "                                                                                                              \n",
      "missing_fu_household_size                                                                                     \n",
      "                                                                                                              \n",
      "                                                                                                              \n",
      "pooled_treatment                       0.521***                   0.492***                   0.525***         \n",
      "                                       (0.022)                    (0.021)                    (0.022)          \n",
      "                                                                                                              \n",
      "Constant                              -0.454***                  -0.401***                  -0.441***         \n",
      "                                       (0.052)                    (0.049)                    (0.050)          \n",
      "                                                                                                              \n",
      "--------------------------------------------------------------------------------------------------------------\n",
      "Observations                            10,464                     10,521                     10,426          \n",
      "R2                                      0.087                      0.085                      0.093           \n",
      "Adjusted R2                             0.086                      0.084                      0.092           \n",
      "Residual Std. Error               0.999 (df = 10451)         0.943 (df = 10508)         0.957 (df = 10413)    \n",
      "F Statistic                   83.148*** (df = 12; 10451) 81.648*** (df = 12; 10508) 89.321*** (df = 12; 10413)\n",
      "==============================================================================================================\n",
      "Note:                                                                              *p<0.1; **p<0.05; ***p<0.01\n"
     ]
    }
   ],
   "source": [
    "\n",
    "\n",
    "\n",
    "child_controls = c(\"control_fu_child_age\", \"control_fu_female\", \"missing_fu_child_age\", \"missing_fu_female\")\n",
    "\n",
    "hh_controls = c(\"control_fu_adults\", \"control_fu_hh_head_edu\",\"control_fu_hh_head_occ_farmer\" ,\"control_fu_total_land\", \n",
    "             \"control_fu_household_size\" ,\"missing_fu_adults\", \"missing_fu_hh_head_edu\" ,\"missing_fu_hh_head_occ_farmer\",  \n",
    "             \"missing_fu_total_land\", \"missing_fu_household_size\")\n",
    "\n",
    "\n",
    "independent_vars = c(\"pooled_treatment\")\n",
    "\n",
    "child_data_subset= child_data %>% filter(fu_child_level == 1 & fu_young_child == 1)\n",
    "\n",
    "x_vars <- c(child_controls,hh_controls,independent_vars)\n",
    "\n",
    "\n",
    "score_markers <- c('math_score_dev','urdu_score_dev','total_score_dev')\n",
    "\n",
    "lm_list <- NULL\n",
    "\n",
    "for (score in score_markers) {\n",
    "    \n",
    "    \n",
    "\n",
    "full.formula <- as.formula(paste(score, paste(x_vars,collapse = ' + '),sep='~'))    \n",
    "\n",
    "lm_list[[score]]<-lm(full.formula,data=child_data_subset,weights=child_data_subset$hh_weight)\n",
    "    \n",
    "\n",
    "} \n",
    "\n",
    "#full.formula <- as.formula(paste('math_score_dev', paste(x_vars,collapse = ' + '),sep='~'))\n",
    "\n",
    "#lm_math_score_dev<-lm(full.formula,data=child_data_subset,weights=child_data_subset$hh_weight)\n",
    "\n",
    "\n",
    "\n",
    "\n",
    "stargazer(lm_list,type = \"text\") \n"
   ]
  },
  {
   "cell_type": "code",
   "execution_count": null,
   "metadata": {},
   "outputs": [],
   "source": []
  },
  {
   "cell_type": "markdown",
   "metadata": {},
   "source": [
    "#### Table 6: Gender differential impacts by subsidy treatment"
   ]
  },
  {
   "cell_type": "code",
   "execution_count": null,
   "metadata": {},
   "outputs": [],
   "source": [
    "source(\"auxiliary/Table_6.r\")\n",
    "Table_6(child_data)"
   ]
  }
 ],
 "metadata": {
  "kernelspec": {
   "display_name": "R",
   "language": "R",
   "name": "ir"
  },
  "language_info": {
   "codemirror_mode": "r",
   "file_extension": ".r",
   "mimetype": "text/x-r-source",
   "name": "R",
   "pygments_lexer": "r",
   "version": "3.6.1"
  }
 },
 "nbformat": 4,
 "nbformat_minor": 4
}
